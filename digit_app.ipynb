{
 "cells": [
  {
   "cell_type": "markdown",
   "id": "2ef2da6c",
   "metadata": {},
   "source": [
    "# Digit Classifier"
   ]
  },
  {
   "cell_type": "markdown",
   "id": "28827188",
   "metadata": {},
   "source": [
    "Image classifier that can recognize single 28 x 28 bw digits. Trained on the MNIST database."
   ]
  },
  {
   "cell_type": "code",
   "execution_count": null,
   "id": "f16cd587",
   "metadata": {},
   "outputs": [],
   "source": [
    "from fastai.vision.all import *\n",
    "from fastai.vision.widgets import *"
   ]
  },
  {
   "cell_type": "code",
   "execution_count": null,
   "id": "2c676635",
   "metadata": {},
   "outputs": [],
   "source": [
    "# Redirecting PosixPath to WindowsPath\n",
    "# import pathlib\n",
    "# temp = pathlib.PosixPath\n",
    "# pathlib.PosixPath = pathlib.WindowsPath"
   ]
  },
  {
   "cell_type": "code",
   "execution_count": null,
   "id": "d929c9f3",
   "metadata": {},
   "outputs": [],
   "source": [
    "# path = Path()\n",
    "learn_inf = load_learner('digit.pkl')"
   ]
  },
  {
   "cell_type": "code",
   "execution_count": null,
   "id": "98187633",
   "metadata": {},
   "outputs": [],
   "source": [
    "# Undoing redirection of PosixPath to WindowsPath\n",
    "# pathlib.PosixPath = temp"
   ]
  },
  {
   "cell_type": "code",
   "execution_count": null,
   "id": "a0215505",
   "metadata": {},
   "outputs": [],
   "source": [
    "btn_upload = widgets.FileUpload(\n",
    "    multiple = False\n",
    ")\n",
    "btn_classify = widgets.Button(\n",
    "    description = 'Classify',\n",
    "    disabled = True,\n",
    "    tooltip = 'Click me',\n",
    ")\n",
    "out_pl = widgets.Output()\n",
    "lbl_pred = widgets.Label()"
   ]
  },
  {
   "cell_type": "code",
   "execution_count": null,
   "id": "321ab44b",
   "metadata": {},
   "outputs": [],
   "source": [
    "def upload_image(change):\n",
    "    lbl_pred.value = ''\n",
    "    img = PILImageBW.create(btn_upload.data[-1])\n",
    "    out_pl.clear_output()\n",
    "    with out_pl:\n",
    "        display(img.to_thumb(224,224))\n",
    "    btn_classify.disabled = False"
   ]
  },
  {
   "cell_type": "code",
   "execution_count": null,
   "id": "9f8e0766",
   "metadata": {},
   "outputs": [],
   "source": [
    "def classify(change):\n",
    "    img = PILImageBW.create(btn_upload.data[-1])\n",
    "    pred, pred_idx, probs = learn_inf.predict(img)\n",
    "    lbl_pred.value = f'Prediction: {pred}; Probability: {probs[pred_idx]:.04f}'"
   ]
  },
  {
   "cell_type": "code",
   "execution_count": null,
   "id": "70ec1b30",
   "metadata": {},
   "outputs": [],
   "source": [
    "btn_upload.observe(upload_image, names=['data'])"
   ]
  },
  {
   "cell_type": "code",
   "execution_count": null,
   "id": "8a8fd157",
   "metadata": {},
   "outputs": [],
   "source": [
    "btn_classify.on_click(classify)"
   ]
  },
  {
   "cell_type": "code",
   "execution_count": null,
   "id": "ca79c3fb",
   "metadata": {
    "scrolled": false
   },
   "outputs": [],
   "source": [
    "display(VBox([widgets.Label('Upload single digit image:'), btn_upload, btn_classify, out_pl, lbl_pred]))"
   ]
  }
 ],
 "metadata": {
  "kernelspec": {
   "display_name": "Python 3 (ipykernel)",
   "language": "python",
   "name": "python3"
  },
  "language_info": {
   "codemirror_mode": {
    "name": "ipython",
    "version": 3
   },
   "file_extension": ".py",
   "mimetype": "text/x-python",
   "name": "python",
   "nbconvert_exporter": "python",
   "pygments_lexer": "ipython3",
   "version": "3.7.11"
  }
 },
 "nbformat": 4,
 "nbformat_minor": 5
}
